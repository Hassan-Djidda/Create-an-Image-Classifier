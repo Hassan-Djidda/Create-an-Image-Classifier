{
 "cells": [
  {
   "metadata": {},
   "cell_type": "raw",
   "source": "",
   "id": "8bf0b97bb6940019"
  },
  {
   "metadata": {},
   "cell_type": "code",
   "outputs": [],
   "execution_count": null,
   "source": "",
   "id": "7cd8f8476a571364"
  },
  {
   "metadata": {
    "ExecuteTime": {
     "end_time": "2025-04-07T14:42:22.524796Z",
     "start_time": "2025-04-07T14:42:12.823374Z"
    }
   },
   "cell_type": "code",
   "source": [
    "# Importation of the all necessary packages\n",
    "import matplotlib.pyplot as plt\n",
    "import numpy as np\n",
    "import torch\n",
    "from torch import nn\n",
    "from torch import optim\n",
    "import torch.nn.functional as F\n",
    "from torchvision import datasets, transforms, models\n",
    "import torchvision.models as models\n",
    "from PIL import Image\n",
    "import json\n",
    "from matplotlib.ticker import FormatStrFormatter#%%\n",
    "import argparse\n",
    "import intel_extension_for_pytorch\n"
   ],
   "id": "b03f03351a498529",
   "outputs": [],
   "execution_count": 1
  },
  {
   "metadata": {
    "ExecuteTime": {
     "end_time": "2025-04-07T14:44:34.795704Z",
     "start_time": "2025-04-07T14:44:34.777981Z"
    }
   },
   "cell_type": "code",
   "source": [
    "data_dir = 'flower_data'\n",
    "train_dir = data_dir + '/train'\n",
    "valid_dir = data_dir + '/valid'\n",
    "test_dir = data_dir + '/test'\n"
   ],
   "id": "5405f2528dacba65",
   "outputs": [],
   "execution_count": 3
  },
  {
   "metadata": {
    "ExecuteTime": {
     "end_time": "2025-04-07T14:44:37.414048Z",
     "start_time": "2025-04-07T14:44:37.320698Z"
    }
   },
   "cell_type": "code",
   "source": [
    "# Define your transforms for the training, validation, and testing sets\n",
    "train_transforms = transforms.Compose([transforms.RandomRotation(30),\n",
    "                                       transforms.RandomResizedCrop(224),\n",
    "                                       transforms.RandomHorizontalFlip(),\n",
    "                                       transforms.ToTensor(),\n",
    "                                       transforms.Normalize([0.485, 0.456, 0.406],\n",
    "                                                            [0.229, 0.224, 0.225])])\n",
    "\n",
    "test_transforms = transforms.Compose([transforms.Resize(256),\n",
    "                                      transforms.CenterCrop(224),\n",
    "                                      transforms.ToTensor(),\n",
    "                                      transforms.Normalize([0.485, 0.456, 0.406],\n",
    "                                                           [0.229, 0.224, 0.225])])\n",
    "\n",
    "validation_transforms = transforms.Compose([transforms.Resize(256),\n",
    "                                            transforms.CenterCrop(224),\n",
    "                                            transforms.ToTensor(),\n",
    "                                            transforms.Normalize([0.485, 0.456, 0.406],\n",
    "                                                                 [0.229, 0.224, 0.225])])\n",
    "\n",
    "\n",
    "#  Load the datasets with ImageFolder\n",
    "train_data = datasets.ImageFolder(train_dir, transform=train_transforms)\n",
    "validation_data = datasets.ImageFolder(valid_dir, transform=validation_transforms)\n",
    "test_data = datasets.ImageFolder(test_dir ,transform = test_transforms)\n",
    "\n",
    "# Using the image datasets and the trainforms, define the dataloaders\n",
    "trainloader = torch.utils.data.DataLoader(train_data, batch_size=128, shuffle=True)\n",
    "vloader = torch.utils.data.DataLoader(validation_data, batch_size = 64,shuffle = True)\n",
    "testloader = torch.utils.data.DataLoader(test_data, batch_size = 20, shuffle = True)"
   ],
   "id": "c398951258520577",
   "outputs": [],
   "execution_count": 4
  },
  {
   "metadata": {
    "ExecuteTime": {
     "end_time": "2025-04-07T14:44:40.831963Z",
     "start_time": "2025-04-07T14:44:40.687423Z"
    }
   },
   "cell_type": "code",
   "source": [
    "def nn_setup(structure='vgg16',dropout=0.5, hidden_layer1 = 120,lr = 0.001):\n",
    "\n",
    "\n",
    "    if structure == 'vgg16':\n",
    "        model = models.vgg16(pretrained=True)\n",
    "    elif structure == 'densenet121':\n",
    "        model = models.densenet121(pretrained=True)\n",
    "    elif structure == 'alexnet':\n",
    "        model = models.alexnet(pretrained = True)\n",
    "    else:\n",
    "        print(\"Im sorry but {} is not a valid model.Did you mean vgg16,densenet121,or alexnet?\".format(structure))\n",
    "\n",
    "\n",
    "\n",
    "    for param in model.parameters():\n",
    "        param.requires_grad = False\n",
    "\n",
    "        from collections import OrderedDict\n",
    "        classifier = nn.Sequential(OrderedDict([\n",
    "            ('dropout',nn.Dropout(dropout)),\n",
    "            ('inputs', nn.Linear(structures[structure], hidden_layer1)),\n",
    "            ('relu1', nn.ReLU()),\n",
    "            ('hidden_layer1', nn.Linear(hidden_layer1, 90)),\n",
    "            ('relu2',nn.ReLU()),\n",
    "            ('hidden_layer2',nn.Linear(90,80)),\n",
    "            ('relu3',nn.ReLU()),\n",
    "            ('hidden_layer3',nn.Linear(80,102)),\n",
    "            ('output', nn.LogSoftmax(dim=1))\n",
    "        ]))\n",
    "\n",
    "\n",
    "        model.classifier = classifier\n",
    "        criterion = nn.NLLLoss()\n",
    "        optimizer = optim.Adam(model.classifier.parameters(), lr )\n",
    "        device = torch.device('xpu' if torch.xpu.is_available() else 'cpu')\n",
    "        model.to(device)\n",
    "\n",
    "        return model , optimizer ,criterion\n",
    "model,optimizer,criterion = nn_setup('resnet50')"
   ],
   "id": "4b454c8618f83be1",
   "outputs": [
    {
     "name": "stdout",
     "output_type": "stream",
     "text": [
      "Im sorry but resnet50 is not a valid model.Did you mean vgg16,densenet121,or alexnet?\n"
     ]
    },
    {
     "ename": "UnboundLocalError",
     "evalue": "cannot access local variable 'model' where it is not associated with a value",
     "output_type": "error",
     "traceback": [
      "\u001B[0;31m---------------------------------------------------------------------------\u001B[0m",
      "\u001B[0;31mUnboundLocalError\u001B[0m                         Traceback (most recent call last)",
      "Cell \u001B[0;32mIn[5], line 39\u001B[0m\n\u001B[1;32m     36\u001B[0m         model\u001B[38;5;241m.\u001B[39mto(device)\n\u001B[1;32m     38\u001B[0m         \u001B[38;5;28;01mreturn\u001B[39;00m model , optimizer ,criterion\n\u001B[0;32m---> 39\u001B[0m model,optimizer,criterion \u001B[38;5;241m=\u001B[39m \u001B[43mnn_setup\u001B[49m\u001B[43m(\u001B[49m\u001B[38;5;124;43m'\u001B[39;49m\u001B[38;5;124;43mresnet50\u001B[39;49m\u001B[38;5;124;43m'\u001B[39;49m\u001B[43m)\u001B[49m\n",
      "Cell \u001B[0;32mIn[5], line 15\u001B[0m, in \u001B[0;36mnn_setup\u001B[0;34m(structure, dropout, hidden_layer1, lr)\u001B[0m\n\u001B[1;32m     10\u001B[0m \u001B[38;5;28;01melse\u001B[39;00m:\n\u001B[1;32m     11\u001B[0m     \u001B[38;5;28mprint\u001B[39m(\u001B[38;5;124m\"\u001B[39m\u001B[38;5;124mIm sorry but \u001B[39m\u001B[38;5;132;01m{}\u001B[39;00m\u001B[38;5;124m is not a valid model.Did you mean vgg16,densenet121,or alexnet?\u001B[39m\u001B[38;5;124m\"\u001B[39m\u001B[38;5;241m.\u001B[39mformat(structure))\n\u001B[0;32m---> 15\u001B[0m \u001B[38;5;28;01mfor\u001B[39;00m param \u001B[38;5;129;01min\u001B[39;00m \u001B[43mmodel\u001B[49m\u001B[38;5;241m.\u001B[39mparameters():\n\u001B[1;32m     16\u001B[0m     param\u001B[38;5;241m.\u001B[39mrequires_grad \u001B[38;5;241m=\u001B[39m \u001B[38;5;28;01mFalse\u001B[39;00m\n\u001B[1;32m     18\u001B[0m     \u001B[38;5;28;01mfrom\u001B[39;00m \u001B[38;5;21;01mcollections\u001B[39;00m \u001B[38;5;28;01mimport\u001B[39;00m OrderedDict\n",
      "\u001B[0;31mUnboundLocalError\u001B[0m: cannot access local variable 'model' where it is not associated with a value"
     ]
    }
   ],
   "execution_count": 5
  },
  {
   "metadata": {},
   "cell_type": "code",
   "outputs": [],
   "execution_count": null,
   "source": [
    "# Putting the above into functions, so they can be used later\n",
    "\n",
    "epochs = 12\n",
    "print_every = 5\n",
    "steps = 0\n",
    "loss_show=[]\n",
    "\n",
    "# change to cuda\n",
    "model.to('cuda')\n",
    "\n",
    "for e in range(epochs):\n",
    "    running_loss = 0\n",
    "    for ii, (inputs, labels) in enumerate(trainloader):\n",
    "        steps += 1\n",
    "\n",
    "        inputs,labels = inputs.to('cuda'), labels.to('cuda')\n",
    "\n",
    "        optimizer.zero_grad()\n",
    "\n",
    "        # Forward and backward passes\n",
    "        outputs = model.forward(inputs)\n",
    "        loss = criterion(outputs, labels)\n",
    "        loss.backward()\n",
    "        optimizer.step()\n",
    "\n",
    "        running_loss += loss.item()\n",
    "\n",
    "        if steps % print_every == 0:\n",
    "            model.eval()\n",
    "            vlost = 0\n",
    "            accuracy=0\n",
    "\n",
    "\n",
    "            for ii, (inputs2,labels2) in enumerate(vloader):\n",
    "                optimizer.zero_grad()\n",
    "\n",
    "                inputs2, labels2 = inputs2.to('cuda:0') , labels2.to('cuda:0')\n",
    "                model.to('cuda:0')\n",
    "                with torch.no_grad():\n",
    "                    outputs = model.forward(inputs2)\n",
    "                    vlost = criterion(outputs,labels2)\n",
    "                    ps = torch.exp(outputs).data\n",
    "                    equality = (labels2.data == ps.max(1)[1])\n",
    "                    accuracy += equality.type_as(torch.FloatTensor()).mean()\n",
    "\n",
    "            vlost = vlost / len(vloader)\n",
    "            accuracy = accuracy /len(vloader)\n",
    "\n",
    "\n",
    "\n",
    "            print(\"Epoch: {}/{}... \".format(e+1, epochs),\n",
    "                  \"Loss: {:.4f}\".format(running_loss/print_every),\n",
    "                  \"Validation Lost {:.4f}\".format(vlost),\n",
    "                  \"Accuracy: {:.4f}\".format(accuracy))\n",
    "\n",
    "\n",
    "            running_loss = 0"
   ],
   "id": "9b89773b536a8e7a"
  }
 ],
 "metadata": {
  "kernelspec": {
   "display_name": "Python 3",
   "language": "python",
   "name": "python3"
  },
  "language_info": {
   "codemirror_mode": {
    "name": "ipython",
    "version": 2
   },
   "file_extension": ".py",
   "mimetype": "text/x-python",
   "name": "python",
   "nbconvert_exporter": "python",
   "pygments_lexer": "ipython2",
   "version": "2.7.6"
  }
 },
 "nbformat": 4,
 "nbformat_minor": 5
}
